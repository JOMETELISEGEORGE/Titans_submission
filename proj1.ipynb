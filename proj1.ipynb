{
 "cells": [
  {
   "cell_type": "code",
   "execution_count": 25,
   "id": "2abce9e9-061d-46e0-911a-62f386656635",
   "metadata": {
    "scrolled": true
   },
   "outputs": [],
   "source": [
    "import pandas as pd\n",
    "from email.utils import parseaddr\n",
    "import pycountry\n",
    "\n",
    "df = pd.read_csv(\"users.csv\")\n",
    "#drop duplicates\n",
    "df_c=df.drop_duplicates()\n",
    "df_c.to_csv(\"f1.csv\", index=False)\n",
    "\n",
    "#drop unrealistic ages\n",
    "df_filtered = df_c[(df_c['age'] >0) & (df_c['age'] <= 100)]\n",
    "df_filtered.to_csv(\"f2.csv\", index=False)\n",
    "\n",
    "df.loc[:, \"email\"] = df[\"email\"].apply(lambda x: x if \"@\" in parseaddr(str(x))[1] and \".\" in parseaddr(str(x))[1] else None)\n",
    "df = df_filtered.dropna(subset=[\"email\"])\n",
    "\n",
    "#removing invalid places\n",
    "valid_countries = {country.name for country in pycountry.countries}\n",
    "df_cleaned = df[df[\"country\"].isin(valid_countries)]\n",
    "df_cleaned.to_csv(\"final_users.csv\", index=False)"
   ]
  },
  {
   "cell_type": "code",
   "execution_count": 26,
   "id": "cd6daf7f-f1ed-4e54-a0fa-636da3e4c6e0",
   "metadata": {},
   "outputs": [],
   "source": [
    "import pandas as pd\n",
    "df = pd.read_csv(\"subscriptions.csv\")\n",
    "df[\"valid_until\"] = pd.to_datetime(df[\"valid_until\"])\n",
    "df = df.sort_values(\"valid_until\").drop_duplicates([\"user_id\", \"plan_type\"], keep=\"last\")\n",
    "df.to_csv(\"final_subscriptions.csv\", index=False)"
   ]
  },
  {
   "cell_type": "code",
   "execution_count": 27,
   "id": "09964b81-b1ac-43aa-a1fa-3db1d6650304",
   "metadata": {},
   "outputs": [],
   "source": [
    "import pandas as pd\n",
    "df = pd.read_csv(\"watch_history.csv\")\n",
    "#remove wrong devices\n",
    "df[\"device_type\"] = df[\"device_type\"].where(df[\"device_type\"].str.contains(\"Smart TV|Laptop|Mobile\", na=False, regex=True))\n",
    "df_dropped_=df.dropna()\n",
    "df_dropped_.to_csv(\"watch_history_1.csv\", index=False)\n",
    "#drop users not in the primary key table user\n",
    "df_=pd.read_csv(\"watch_history_1.csv\")\n",
    "DF= pd.read_csv(\"final_users.csv\")\n",
    "missing_in_df1 = df_[~df_[\"user_id\"].isin(DF[\"user_id\"])]\n",
    "missing_in_df1.to_csv(\"missing_in_file2.csv\", index=False)\n",
    "df1_filtered = df_[~df_[\"user_id\"].isin(missing_in_df1[\"user_id\"])]\n",
    "df1_filtered.to_csv(\"final_watch_history.csv\", index=False)"
   ]
  },
  {
   "cell_type": "code",
   "execution_count": 28,
   "id": "66cbdb63-4608-4e76-82ef-0f8f958c5dfa",
   "metadata": {},
   "outputs": [],
   "source": [
    "import pandas as pd\n",
    "df = pd.read_csv(\"ratings.csv\")\n",
    "#null values drop\n",
    "df_dropped_=df.dropna()\n",
    "\n",
    "#drop impossible ratings\n",
    "df_filtered = df_dropped_[(df_dropped_['rating'] >= 1) & (df_dropped_['rating'] <= 5)]\n",
    "#ratings \n",
    "df_filtered.sort_values(\"review_date\").drop_duplicates([\"user_id\", \"movie_id\"], keep=\"last\")\n",
    "df_filtered.to_csv(\"final_ratings.csv\", index=False)"
   ]
  }
 ],
 "metadata": {
  "kernelspec": {
   "display_name": "Python [conda env:base] *",
   "language": "python",
   "name": "conda-base-py"
  },
  "language_info": {
   "codemirror_mode": {
    "name": "ipython",
    "version": 3
   },
   "file_extension": ".py",
   "mimetype": "text/x-python",
   "name": "python",
   "nbconvert_exporter": "python",
   "pygments_lexer": "ipython3",
   "version": "3.12.7"
  }
 },
 "nbformat": 4,
 "nbformat_minor": 5
}
